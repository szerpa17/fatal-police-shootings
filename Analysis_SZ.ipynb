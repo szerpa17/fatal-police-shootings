{
 "cells": [
  {
   "cell_type": "code",
   "execution_count": 1,
   "metadata": {},
   "outputs": [],
   "source": [
    "# Dependancies\n",
    "import matplotlib.pyplot as plt\n",
    "import pandas as pd\n",
    "import scipy.stats as st\n",
    "from scipy.stats import sem\n",
    "import numpy as np\n",
    "import os\n",
    "\n",
    "# File load\n",
    "file1 = os.path.join('csv_exports', 'Shootings.csv' )\n",
    "file2 = os.path.join('csv_exports', 'Census.csv' )\n",
    "file3 = os.path.join('csv_exports', 'Combined.csv' )\n",
    "\n",
    "# File read\n",
    "shootings_df = pd.read_csv(file1)\n",
    "census_df = pd.read_csv(file2)\n",
    "combined_df = pd.read_csv(file3)"
   ]
  },
  {
   "cell_type": "markdown",
   "metadata": {},
   "source": [
    "### Shootings and Population Size"
   ]
  },
  {
   "cell_type": "code",
   "execution_count": 2,
   "metadata": {},
   "outputs": [
    {
     "data": {
      "text/html": [
       "<div>\n",
       "<style scoped>\n",
       "    .dataframe tbody tr th:only-of-type {\n",
       "        vertical-align: middle;\n",
       "    }\n",
       "\n",
       "    .dataframe tbody tr th {\n",
       "        vertical-align: top;\n",
       "    }\n",
       "\n",
       "    .dataframe thead th {\n",
       "        text-align: right;\n",
       "    }\n",
       "</style>\n",
       "<table border=\"1\" class=\"dataframe\">\n",
       "  <thead>\n",
       "    <tr style=\"text-align: right;\">\n",
       "      <th></th>\n",
       "      <th>id</th>\n",
       "      <th>name</th>\n",
       "      <th>date</th>\n",
       "      <th>manner_of_death</th>\n",
       "      <th>armed</th>\n",
       "      <th>age</th>\n",
       "      <th>gender</th>\n",
       "      <th>race</th>\n",
       "      <th>city</th>\n",
       "      <th>state</th>\n",
       "      <th>...</th>\n",
       "      <th>signs_of_mental_illness</th>\n",
       "      <th>threat_level</th>\n",
       "      <th>flee</th>\n",
       "      <th>body_camera</th>\n",
       "      <th>GEO_ID</th>\n",
       "      <th>2015 Population</th>\n",
       "      <th>2016 Population</th>\n",
       "      <th>2017 Population</th>\n",
       "      <th>2018 Population</th>\n",
       "      <th>Average</th>\n",
       "    </tr>\n",
       "  </thead>\n",
       "  <tbody>\n",
       "    <tr>\n",
       "      <th>0</th>\n",
       "      <td>5</td>\n",
       "      <td>John Paul Quintero</td>\n",
       "      <td>2015-01-03</td>\n",
       "      <td>shot and Tasered</td>\n",
       "      <td>unarmed</td>\n",
       "      <td>23.0</td>\n",
       "      <td>Male</td>\n",
       "      <td>Hispanic</td>\n",
       "      <td>Wichita</td>\n",
       "      <td>Kansas</td>\n",
       "      <td>...</td>\n",
       "      <td>False</td>\n",
       "      <td>other</td>\n",
       "      <td>Not fleeing</td>\n",
       "      <td>False</td>\n",
       "      <td>1600000US2079000</td>\n",
       "      <td>389955.0</td>\n",
       "      <td>389927.0</td>\n",
       "      <td>390599.0</td>\n",
       "      <td>389259.0</td>\n",
       "      <td>389935.00</td>\n",
       "    </tr>\n",
       "    <tr>\n",
       "      <th>1</th>\n",
       "      <td>8</td>\n",
       "      <td>Matthew Hoffman</td>\n",
       "      <td>2015-01-04</td>\n",
       "      <td>shot</td>\n",
       "      <td>toy weapon</td>\n",
       "      <td>32.0</td>\n",
       "      <td>Male</td>\n",
       "      <td>White</td>\n",
       "      <td>San Francisco</td>\n",
       "      <td>California</td>\n",
       "      <td>...</td>\n",
       "      <td>True</td>\n",
       "      <td>attack</td>\n",
       "      <td>Not fleeing</td>\n",
       "      <td>False</td>\n",
       "      <td>1600000US0667000</td>\n",
       "      <td>864816.0</td>\n",
       "      <td>870887.0</td>\n",
       "      <td>884363.0</td>\n",
       "      <td>883305.0</td>\n",
       "      <td>875842.75</td>\n",
       "    </tr>\n",
       "    <tr>\n",
       "      <th>2</th>\n",
       "      <td>13</td>\n",
       "      <td>Kenneth Arnold Buck</td>\n",
       "      <td>2015-01-05</td>\n",
       "      <td>shot</td>\n",
       "      <td>gun</td>\n",
       "      <td>22.0</td>\n",
       "      <td>Male</td>\n",
       "      <td>Hispanic</td>\n",
       "      <td>Chandler</td>\n",
       "      <td>Arizona</td>\n",
       "      <td>...</td>\n",
       "      <td>False</td>\n",
       "      <td>attack</td>\n",
       "      <td>Car</td>\n",
       "      <td>False</td>\n",
       "      <td>1600000US0412000</td>\n",
       "      <td>260833.0</td>\n",
       "      <td>247459.0</td>\n",
       "      <td>253448.0</td>\n",
       "      <td>257153.0</td>\n",
       "      <td>254723.25</td>\n",
       "    </tr>\n",
       "    <tr>\n",
       "      <th>3</th>\n",
       "      <td>19</td>\n",
       "      <td>Patrick Wetter</td>\n",
       "      <td>2015-01-06</td>\n",
       "      <td>shot and Tasered</td>\n",
       "      <td>knife</td>\n",
       "      <td>25.0</td>\n",
       "      <td>Male</td>\n",
       "      <td>White</td>\n",
       "      <td>Stockton</td>\n",
       "      <td>California</td>\n",
       "      <td>...</td>\n",
       "      <td>False</td>\n",
       "      <td>attack</td>\n",
       "      <td>Not fleeing</td>\n",
       "      <td>False</td>\n",
       "      <td>1600000US0675000</td>\n",
       "      <td>305650.0</td>\n",
       "      <td>307057.0</td>\n",
       "      <td>310476.0</td>\n",
       "      <td>311189.0</td>\n",
       "      <td>308593.00</td>\n",
       "    </tr>\n",
       "    <tr>\n",
       "      <th>4</th>\n",
       "      <td>22</td>\n",
       "      <td>Hashim Hanif Ibn Abdul-Rasheed</td>\n",
       "      <td>2015-01-07</td>\n",
       "      <td>shot</td>\n",
       "      <td>knife</td>\n",
       "      <td>41.0</td>\n",
       "      <td>Male</td>\n",
       "      <td>Black</td>\n",
       "      <td>Columbus</td>\n",
       "      <td>Ohio</td>\n",
       "      <td>...</td>\n",
       "      <td>True</td>\n",
       "      <td>other</td>\n",
       "      <td>Not fleeing</td>\n",
       "      <td>False</td>\n",
       "      <td>1600000US3918000</td>\n",
       "      <td>849067.0</td>\n",
       "      <td>862643.0</td>\n",
       "      <td>881901.0</td>\n",
       "      <td>895877.0</td>\n",
       "      <td>872372.00</td>\n",
       "    </tr>\n",
       "  </tbody>\n",
       "</table>\n",
       "<p>5 rows × 21 columns</p>\n",
       "</div>"
      ],
      "text/plain": [
       "   id                            name        date   manner_of_death  \\\n",
       "0   5              John Paul Quintero  2015-01-03  shot and Tasered   \n",
       "1   8                 Matthew Hoffman  2015-01-04              shot   \n",
       "2  13             Kenneth Arnold Buck  2015-01-05              shot   \n",
       "3  19                  Patrick Wetter  2015-01-06  shot and Tasered   \n",
       "4  22  Hashim Hanif Ibn Abdul-Rasheed  2015-01-07              shot   \n",
       "\n",
       "        armed   age gender      race           city       state  ...  \\\n",
       "0     unarmed  23.0   Male  Hispanic        Wichita      Kansas  ...   \n",
       "1  toy weapon  32.0   Male     White  San Francisco  California  ...   \n",
       "2         gun  22.0   Male  Hispanic       Chandler     Arizona  ...   \n",
       "3       knife  25.0   Male     White       Stockton  California  ...   \n",
       "4       knife  41.0   Male     Black       Columbus        Ohio  ...   \n",
       "\n",
       "  signs_of_mental_illness  threat_level         flee body_camera  \\\n",
       "0                   False         other  Not fleeing       False   \n",
       "1                    True        attack  Not fleeing       False   \n",
       "2                   False        attack          Car       False   \n",
       "3                   False        attack  Not fleeing       False   \n",
       "4                    True         other  Not fleeing       False   \n",
       "\n",
       "             GEO_ID 2015 Population  2016 Population  2017 Population  \\\n",
       "0  1600000US2079000        389955.0         389927.0         390599.0   \n",
       "1  1600000US0667000        864816.0         870887.0         884363.0   \n",
       "2  1600000US0412000        260833.0         247459.0         253448.0   \n",
       "3  1600000US0675000        305650.0         307057.0         310476.0   \n",
       "4  1600000US3918000        849067.0         862643.0         881901.0   \n",
       "\n",
       "   2018 Population    Average  \n",
       "0         389259.0  389935.00  \n",
       "1         883305.0  875842.75  \n",
       "2         257153.0  254723.25  \n",
       "3         311189.0  308593.00  \n",
       "4         895877.0  872372.00  \n",
       "\n",
       "[5 rows x 21 columns]"
      ]
     },
     "execution_count": 2,
     "metadata": {},
     "output_type": "execute_result"
    }
   ],
   "source": [
    "combined_df.head()"
   ]
  },
  {
   "cell_type": "markdown",
   "metadata": {},
   "source": [
    "#### Calculating lethal shootings per 100,000 people"
   ]
  },
  {
   "cell_type": "code",
   "execution_count": 32,
   "metadata": {},
   "outputs": [
    {
     "data": {
      "text/html": [
       "<div>\n",
       "<style scoped>\n",
       "    .dataframe tbody tr th:only-of-type {\n",
       "        vertical-align: middle;\n",
       "    }\n",
       "\n",
       "    .dataframe tbody tr th {\n",
       "        vertical-align: top;\n",
       "    }\n",
       "\n",
       "    .dataframe thead th {\n",
       "        text-align: right;\n",
       "    }\n",
       "</style>\n",
       "<table border=\"1\" class=\"dataframe\">\n",
       "  <thead>\n",
       "    <tr style=\"text-align: right;\">\n",
       "      <th></th>\n",
       "      <th>state</th>\n",
       "      <th>city</th>\n",
       "      <th>shooting occurences</th>\n",
       "      <th>average population</th>\n",
       "      <th>shootings per 100,000</th>\n",
       "    </tr>\n",
       "  </thead>\n",
       "  <tbody>\n",
       "    <tr>\n",
       "      <th>0</th>\n",
       "      <td>Alabama</td>\n",
       "      <td>Birmingham</td>\n",
       "      <td>8</td>\n",
       "      <td>212595.75</td>\n",
       "      <td>3.763010</td>\n",
       "    </tr>\n",
       "    <tr>\n",
       "      <th>8</th>\n",
       "      <td>Alabama</td>\n",
       "      <td>Hoover</td>\n",
       "      <td>2</td>\n",
       "      <td>84958.50</td>\n",
       "      <td>2.354091</td>\n",
       "    </tr>\n",
       "    <tr>\n",
       "      <th>10</th>\n",
       "      <td>Alabama</td>\n",
       "      <td>Huntsville</td>\n",
       "      <td>8</td>\n",
       "      <td>195129.00</td>\n",
       "      <td>4.099852</td>\n",
       "    </tr>\n",
       "    <tr>\n",
       "      <th>18</th>\n",
       "      <td>Alabama</td>\n",
       "      <td>Mobile</td>\n",
       "      <td>3</td>\n",
       "      <td>191760.75</td>\n",
       "      <td>1.564449</td>\n",
       "    </tr>\n",
       "    <tr>\n",
       "      <th>21</th>\n",
       "      <td>Alabama</td>\n",
       "      <td>Montgomery</td>\n",
       "      <td>4</td>\n",
       "      <td>199588.25</td>\n",
       "      <td>2.004126</td>\n",
       "    </tr>\n",
       "    <tr>\n",
       "      <th>...</th>\n",
       "      <td>...</td>\n",
       "      <td>...</td>\n",
       "      <td>...</td>\n",
       "      <td>...</td>\n",
       "      <td>...</td>\n",
       "    </tr>\n",
       "    <tr>\n",
       "      <th>2436</th>\n",
       "      <td>Wisconsin</td>\n",
       "      <td>Madison</td>\n",
       "      <td>3</td>\n",
       "      <td>253696.50</td>\n",
       "      <td>1.182515</td>\n",
       "    </tr>\n",
       "    <tr>\n",
       "      <th>2439</th>\n",
       "      <td>Wisconsin</td>\n",
       "      <td>Milwaukee</td>\n",
       "      <td>14</td>\n",
       "      <td>595647.75</td>\n",
       "      <td>2.350382</td>\n",
       "    </tr>\n",
       "    <tr>\n",
       "      <th>2453</th>\n",
       "      <td>Wisconsin</td>\n",
       "      <td>Oshkosh</td>\n",
       "      <td>1</td>\n",
       "      <td>66633.00</td>\n",
       "      <td>1.500758</td>\n",
       "    </tr>\n",
       "    <tr>\n",
       "      <th>2454</th>\n",
       "      <td>Wisconsin</td>\n",
       "      <td>Racine</td>\n",
       "      <td>2</td>\n",
       "      <td>77574.50</td>\n",
       "      <td>2.578167</td>\n",
       "    </tr>\n",
       "    <tr>\n",
       "      <th>2456</th>\n",
       "      <td>Wisconsin</td>\n",
       "      <td>Waukesha</td>\n",
       "      <td>3</td>\n",
       "      <td>72341.50</td>\n",
       "      <td>4.146997</td>\n",
       "    </tr>\n",
       "  </tbody>\n",
       "</table>\n",
       "<p>455 rows × 5 columns</p>\n",
       "</div>"
      ],
      "text/plain": [
       "          state        city  shooting occurences  average population  \\\n",
       "0       Alabama  Birmingham                    8           212595.75   \n",
       "8       Alabama      Hoover                    2            84958.50   \n",
       "10      Alabama  Huntsville                    8           195129.00   \n",
       "18      Alabama      Mobile                    3           191760.75   \n",
       "21      Alabama  Montgomery                    4           199588.25   \n",
       "...         ...         ...                  ...                 ...   \n",
       "2436  Wisconsin     Madison                    3           253696.50   \n",
       "2439  Wisconsin   Milwaukee                   14           595647.75   \n",
       "2453  Wisconsin     Oshkosh                    1            66633.00   \n",
       "2454  Wisconsin      Racine                    2            77574.50   \n",
       "2456  Wisconsin    Waukesha                    3            72341.50   \n",
       "\n",
       "      shootings per 100,000  \n",
       "0                  3.763010  \n",
       "8                  2.354091  \n",
       "10                 4.099852  \n",
       "18                 1.564449  \n",
       "21                 2.004126  \n",
       "...                     ...  \n",
       "2436               1.182515  \n",
       "2439               2.350382  \n",
       "2453               1.500758  \n",
       "2454               2.578167  \n",
       "2456               4.146997  \n",
       "\n",
       "[455 rows x 5 columns]"
      ]
     },
     "execution_count": 32,
     "metadata": {},
     "output_type": "execute_result"
    }
   ],
   "source": [
    "# Identify the count of lethal shootings in each unique city and state\n",
    "# combination through the use of groupby\n",
    "cities_state_grp = combined_df.groupby(['state', 'city'])\n",
    "counts = cities_state_grp['id'].count()\n",
    "\n",
    "# Convert to DF\n",
    "counts_by_city_df = pd.DataFrame({'shooting occurences' : counts})\n",
    "\n",
    "# Reset index\n",
    "counts_by_city_df = counts_by_city_df.reset_index()\n",
    "\n",
    "# Merge DF with average population information\n",
    "per_capita_df = pd.merge(counts_by_city_df, \n",
    "                         combined_df[['city', 'state', 'Average']], \n",
    "                         on=('city', 'state'), \n",
    "                         how='left')\n",
    "\n",
    "# Calculate per capita shootings\n",
    "per_capita_df['shootings per 100,000'] = (per_capita_df['shooting occurences']/\n",
    "                                     per_capita_df['Average'])*100000\n",
    "\n",
    "# Restructuring of columns\n",
    "per_capita_df = per_capita_df[['state', 'city', 'shooting occurences', 'Average', 'shootings per 100,000']]\n",
    "\n",
    "# Column title format\n",
    "per_capita_df = per_capita_df.rename(columns={'Average': 'average population'})\n",
    "\n",
    "# Drop duplicates\n",
    "per_capita_df = per_capita_df.drop_duplicates()\n",
    "\n",
    "per_capita_df"
   ]
  },
  {
   "cell_type": "markdown",
   "metadata": {},
   "source": [
    "#### Data Shape - Shooting Occurences, Average Population, and Per Capita Shootings"
   ]
  },
  {
   "cell_type": "code",
   "execution_count": 4,
   "metadata": {},
   "outputs": [
    {
     "data": {
      "text/html": [
       "<div>\n",
       "<style scoped>\n",
       "    .dataframe tbody tr th:only-of-type {\n",
       "        vertical-align: middle;\n",
       "    }\n",
       "\n",
       "    .dataframe tbody tr th {\n",
       "        vertical-align: top;\n",
       "    }\n",
       "\n",
       "    .dataframe thead th {\n",
       "        text-align: right;\n",
       "    }\n",
       "</style>\n",
       "<table border=\"1\" class=\"dataframe\">\n",
       "  <thead>\n",
       "    <tr style=\"text-align: right;\">\n",
       "      <th></th>\n",
       "      <th>shooting occurences</th>\n",
       "      <th>average population</th>\n",
       "      <th>shootings per 100,000</th>\n",
       "    </tr>\n",
       "  </thead>\n",
       "  <tbody>\n",
       "    <tr>\n",
       "      <th>mean</th>\n",
       "      <td>5.404396</td>\n",
       "      <td>2.236313e+05</td>\n",
       "      <td>2.635402</td>\n",
       "    </tr>\n",
       "    <tr>\n",
       "      <th>median</th>\n",
       "      <td>3.000000</td>\n",
       "      <td>1.133172e+05</td>\n",
       "      <td>2.183817</td>\n",
       "    </tr>\n",
       "    <tr>\n",
       "      <th>var</th>\n",
       "      <td>72.558571</td>\n",
       "      <td>2.502261e+11</td>\n",
       "      <td>3.640848</td>\n",
       "    </tr>\n",
       "    <tr>\n",
       "      <th>std</th>\n",
       "      <td>8.518132</td>\n",
       "      <td>5.002261e+05</td>\n",
       "      <td>1.908101</td>\n",
       "    </tr>\n",
       "    <tr>\n",
       "      <th>sem</th>\n",
       "      <td>0.399336</td>\n",
       "      <td>2.345096e+04</td>\n",
       "      <td>0.089453</td>\n",
       "    </tr>\n",
       "  </tbody>\n",
       "</table>\n",
       "</div>"
      ],
      "text/plain": [
       "        shooting occurences  average population  shootings per 100,000\n",
       "mean               5.404396        2.236313e+05               2.635402\n",
       "median             3.000000        1.133172e+05               2.183817\n",
       "var               72.558571        2.502261e+11               3.640848\n",
       "std                8.518132        5.002261e+05               1.908101\n",
       "sem                0.399336        2.345096e+04               0.089453"
      ]
     },
     "execution_count": 4,
     "metadata": {},
     "output_type": "execute_result"
    }
   ],
   "source": [
    "# Data Shape\n",
    "pop_distrb = per_capita_df.agg(['mean', 'median', 'var', 'std', 'sem'])\n",
    "pop_distrb\n",
    "pop_distrb_df = pop_distrb.rename(columns={'mean': 'Mean',\n",
    "                                          'median': 'Median',\n",
    "                                          'var': 'Variance',\n",
    "                                          'std': 'Standard Deviation',\n",
    "                                          'sem': 'SEM'})\n",
    "pop_distrb_df"
   ]
  },
  {
   "cell_type": "markdown",
   "metadata": {},
   "source": [
    "#### Plotting Relationships"
   ]
  },
  {
   "cell_type": "markdown",
   "metadata": {},
   "source": [
    "##### Lethal shootings per 100,000 people vs Average Population - All Cities"
   ]
  },
  {
   "cell_type": "code",
   "execution_count": 5,
   "metadata": {},
   "outputs": [
    {
     "data": {
      "image/png": "[encoded data removed]",
      "text/plain": [
       "<Figure size 432x288 with 1 Axes>"
      ]
     },
     "metadata": {
      "needs_background": "light"
     },
     "output_type": "display_data"
    }
   ],
   "source": [
    "plt.scatter(per_capita_df['shootings per 100,000'], \n",
    "            per_capita_df['average population'])\n",
    "\n",
    "plt.title('Fatal Shootings per 100,000 vs \\nAverage City Population')\n",
    "\n",
    "plt.show()"
   ]
  },
  {
   "cell_type": "markdown",
   "metadata": {},
   "source": [
    "#### Plotting Relationships - Subdivided by City Population Sizes"
   ]
  },
  {
   "cell_type": "markdown",
   "metadata": {},
   "source": [
    "##### Lethal shootings per 100,000 people vs Average Population - Cities with Populations Under 580,000"
   ]
  },
  {
   "cell_type": "code",
   "execution_count": 47,
   "metadata": {},
   "outputs": [
    {
     "data": {
      "image/png": "[encoded data removed]",
      "text/plain": [
       "<Figure size 432x288 with 1 Axes>"
      ]
     },
     "metadata": {
      "needs_background": "light"
     },
     "output_type": "display_data"
    }
   ],
   "source": [
    "plt.scatter(per_capita_df['shootings per 100,000'], \n",
    "            per_capita_df['average population'])\n",
    "plt.ylim(60000,100000)\n",
    "plt.title('Fatal Shootings per 100,000 vs \\nAverage City Population')\n",
    "\n",
    "plt.show()"
   ]
  },
  {
   "cell_type": "markdown",
   "metadata": {},
   "source": [
    "##### Lethal shootings per 100,000 people vs Average Population - Cities with Populations Under 580,000"
   ]
  },
  {
   "cell_type": "code",
   "execution_count": 46,
   "metadata": {},
   "outputs": [
    {
     "data": {
      "image/png": "[encoded data removed]",
      "text/plain": [
       "<Figure size 432x288 with 1 Axes>"
      ]
     },
     "metadata": {
      "needs_background": "light"
     },
     "output_type": "display_data"
    }
   ],
   "source": [
    "plt.scatter(per_capita_df['shootings per 100,000'], \n",
    "            per_capita_df['average population'])\n",
    "plt.ylim(100000,200000)\n",
    "plt.title('Fatal Shootings per 100,000 vs \\nAverage City Population')\n",
    "\n",
    "plt.show()"
   ]
  },
  {
   "cell_type": "code",
   "execution_count": 49,
   "metadata": {},
   "outputs": [
    {
     "data": {
      "image/png": "[encoded data removed]",
      "text/plain": [
       "<Figure size 432x288 with 1 Axes>"
      ]
     },
     "metadata": {
      "needs_background": "light"
     },
     "output_type": "display_data"
    }
   ],
   "source": [
    "plt.scatter(per_capita_df['shootings per 100,000'], \n",
    "            per_capita_df['average population'])\n",
    "plt.ylim(200000,300000)\n",
    "plt.title('Fatal Shootings per 100,000 vs \\nAverage City Population')\n",
    "\n",
    "plt.show()"
   ]
  },
  {
   "cell_type": "code",
   "execution_count": 50,
   "metadata": {},
   "outputs": [
    {
     "data": {
      "image/png": "[encoded data removed]",
      "text/plain": [
       "<Figure size 432x288 with 1 Axes>"
      ]
     },
     "metadata": {
      "needs_background": "light"
     },
     "output_type": "display_data"
    }
   ],
   "source": [
    "plt.scatter(per_capita_df['shootings per 100,000'], \n",
    "            per_capita_df['average population'])\n",
    "plt.ylim(300000,400000)\n",
    "plt.title('Fatal Shootings per 100,000 vs \\nAverage City Population')\n",
    "\n",
    "plt.show()"
   ]
  },
  {
   "cell_type": "code",
   "execution_count": 54,
   "metadata": {},
   "outputs": [
    {
     "data": {
      "image/png": "[encoded data removed]",
      "text/plain": [
       "<Figure size 432x288 with 1 Axes>"
      ]
     },
     "metadata": {
      "needs_background": "light"
     },
     "output_type": "display_data"
    }
   ],
   "source": [
    "plt.scatter(per_capita_df['shootings per 100,000'], \n",
    "            per_capita_df['average population'])\n",
    "plt.ylim(400000,500000)\n",
    "plt.title('Fatal Shootings per 100,000 vs \\nAverage City Population')\n",
    "\n",
    "plt.show()"
   ]
  },
  {
   "cell_type": "code",
   "execution_count": 53,
   "metadata": {},
   "outputs": [
    {
     "data": {
      "image/png": "[encoded data removed]",
      "text/plain": [
       "<Figure size 432x288 with 1 Axes>"
      ]
     },
     "metadata": {
      "needs_background": "light"
     },
     "output_type": "display_data"
    }
   ],
   "source": [
    "plt.scatter(per_capita_df['shootings per 100,000'], \n",
    "            per_capita_df['average population'])\n",
    "plt.ylim(500000,600000)\n",
    "plt.title('Fatal Shootings per 100,000 vs \\nAverage City Population')\n",
    "\n",
    "plt.show()"
   ]
  },
  {
   "cell_type": "code",
   "execution_count": null,
   "metadata": {},
   "outputs": [],
   "source": [
    "##### Lethal shootings per 100,000 people vs Average Population - Cities with Populations between 580,000 and 1,000,000"
   ]
  },
  {
   "cell_type": "code",
   "execution_count": 55,
   "metadata": {},
   "outputs": [
    {
     "data": {
      "image/png": "[encoded data removed]",
      "text/plain": [
       "<Figure size 432x288 with 1 Axes>"
      ]
     },
     "metadata": {
      "needs_background": "light"
     },
     "output_type": "display_data"
    }
   ],
   "source": [
    "plt.scatter(per_capita_df['shootings per 100,000'], \n",
    "            per_capita_df['average population'])\n",
    "plt.ylim(600000,1000000)\n",
    "plt.title('Fatal Shootings per 100,000 vs \\nAverage City Population')\n",
    "\n",
    "plt.show()"
   ]
  },
  {
   "cell_type": "code",
   "execution_count": 56,
   "metadata": {},
   "outputs": [
    {
     "data": {
      "image/png": "[encoded data removed]",
      "text/plain": [
       "<Figure size 432x288 with 1 Axes>"
      ]
     },
     "metadata": {
      "needs_background": "light"
     },
     "output_type": "display_data"
    }
   ],
   "source": [
    "# Plot - Lethal shootings per 100,000 people vs Average Population\n",
    "# Cities with Populations 1,000,000 and Over\n",
    "plt.scatter(per_capita_df['shootings per 100,000'], \n",
    "            per_capita_df['average population'])\n",
    "plt.ylim(1000000,8700000)\n",
    "plt.title('Fatal Shootings per 100,000 vs \\nAverage City Population')\n",
    "\n",
    "plt.show()"
   ]
  },
  {
   "cell_type": "code",
   "execution_count": 6,
   "metadata": {},
   "outputs": [
    {
     "data": {
      "image/png": "[encoded data removed]",
      "text/plain": [
       "<Figure size 432x288 with 1 Axes>"
      ]
     },
     "metadata": {
      "needs_background": "light"
     },
     "output_type": "display_data"
    }
   ],
   "source": [
    "# Plot - Lethal shootings per 100,000 people vs Shooting Occurence\n",
    "plt.scatter(per_capita_df['shootings per 100,000'], \n",
    "            per_capita_df['shooting occurences'])\n",
    "\n",
    "plt.title('Fatal Shootings per 100,000 vs \\nAverage Shooting Occurence')\n",
    "\n",
    "plt.show()"
   ]
  },
  {
   "cell_type": "code",
   "execution_count": 58,
   "metadata": {},
   "outputs": [],
   "source": [
    "# Regression line function\n",
    "def regsn(df, x, y, xlabel, ylabel, ylim_1, ylim_2):\n",
    "    df = df.loc[df[x] > 0]\n",
    "    x_values = df[x]\n",
    "    y_values = df[y]\n",
    "    (slope, intercept, rvalue, pvalue, stderr) = linregress(x_values, y_values)\n",
    "    regress_values = x_values * slope + intercept\n",
    "    line_eq = \"y = \" + str(round(slope,2)) + \"x + \" + str(round(intercept,2))\n",
    "    plt.scatter(x_values,y_values, c='c', alpha=.7)\n",
    "    plt.plot(x_values,regress_values,\"r-\")\n",
    "    plt.annotate(line_eq, xy=(0.50, 0.10),xycoords='axes fraction', fontsize=14,color=\"red\")\n",
    "    plt.xlabel(xlabel)\n",
    "    plt.ylabel(ylabel)\n",
    "    plt.ylim(ylim_1, ylim_2)\n",
    "    plt.title(f'{xlabel} vs {ylabel} for City Populations between {ylim_1} and {ylim_2}')\n",
    "    # Print and return\n",
    "    print(f\"The r-squared is: {rvalue**2}\")\n",
    "    plt.savefig(f'images/{xlabel} vs {ylabel} for City Populations between {ylim_1} and {ylim_2}')\n",
    "    return plt.show()"
   ]
  },
  {
   "cell_type": "code",
   "execution_count": 57,
   "metadata": {},
   "outputs": [],
   "source": [
    "# Regression Plots"
   ]
  },
  {
   "cell_type": "code",
   "execution_count": 20,
   "metadata": {},
   "outputs": [
    {
     "data": {
      "text/plain": [
       "<matplotlib.collections.PathCollection at 0x114c7f25898>"
      ]
     },
     "execution_count": 20,
     "metadata": {},
     "output_type": "execute_result"
    },
    {
     "data": {
      "image/png": "[encoded data removed]",
      "text/plain": [
       "<Figure size 432x288 with 4 Axes>"
      ]
     },
     "metadata": {
      "needs_background": "light"
     },
     "output_type": "display_data"
    }
   ],
   "source": [
    "# Multiplot \n",
    "x = per_capita_df['shootings per 100,000']\n",
    "y = per_capita_df['average population']\n",
    "\n",
    "# Create just a figure and only one subplot\n",
    "fig, ((ax1, ax2), (ax3, ax4)) = plt.subplots(2,2)\n",
    "fig.suptitle('Sharing x per column, y per row')\n",
    "ax1.scatter(x, y+2500000)\n",
    "#ax1.ylim?\n",
    "ax2.scatter(x, y)\n",
    "ax3.scatter(x, y)\n",
    "ax4.scatter(x, y)\n",
    "\n",
    "# for ax in fig.get_axes():\n",
    "#     ax.label_outer()\n",
    "    \n",
    "    \n",
    "# ax.set_title('Simple plot')\n",
    "\n",
    "# fig, ((ax1, ax2), (ax3, ax4)) = plt.subplots(2, 2)\n",
    "# fig.suptitle('Sharing x per column, y per row')\n",
    "# ax1.plot(x, y)\n",
    "# ax2.plot(x, y**2, 'tab:orange')\n",
    "# ax3.plot(x, -y, 'tab:green')\n",
    "# ax4.plot(x, -y**2, 'tab:red')\n",
    "\n",
    "# for ax in fig.get_axes():\n",
    "#     ax.label_outer()"
   ]
  },
  {
   "cell_type": "code",
   "execution_count": null,
   "metadata": {},
   "outputs": [],
   "source": []
  }
 ],
 "metadata": {
  "kernelspec": {
   "display_name": "Python 3",
   "language": "python",
   "name": "python3"
  },
  "language_info": {
   "codemirror_mode": {
    "name": "ipython",
    "version": 3
   },
   "file_extension": ".py",
   "mimetype": "text/x-python",
   "name": "python",
   "nbconvert_exporter": "python",
   "pygments_lexer": "ipython3",
   "version": "3.6.10"
  }
 },
 "nbformat": 4,
 "nbformat_minor": 4
}
