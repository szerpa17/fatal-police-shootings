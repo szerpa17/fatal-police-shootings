{
 "cells": [
  {
   "cell_type": "code",
   "execution_count": 1,
   "metadata": {},
   "outputs": [],
   "source": [
    "# Dependancies\n",
    "import pandas as pd\n",
    "import os\n",
    "\n",
    "# File load\n",
    "file1 = os.path.join('data', 'fatal-police-shootings-data.csv' )\n",
    "file2 = os.path.join('data', 'ACSDP1Y2015.csv' )\n",
    "file3 = os.path.join('data', 'ACSDP1Y2016.csv' )\n",
    "file4 = os.path.join('data', 'ACSDP1Y2017.csv' )\n",
    "file5 = os.path.join('data', 'ACSDP1Y2018.csv' )\n",
    "\n",
    "# File read\n",
    "shootings_df = pd.read_csv(file1)\n",
    "# c_2015 = pd.read_csv(file2, header=None)\n",
    "# c_2016 = pd.read_csv(file3, header=None)\n",
    "# c_2017 = pd.read_csv(file4, header=None)\n",
    "# c_2018 = pd.read_csv(file5, header=None)\n",
    "c_2015 = pd.read_csv(file2)\n",
    "c_2016 = pd.read_csv(file3)\n",
    "c_2017 = pd.read_csv(file4)\n",
    "c_2018 = pd.read_csv(file5)"
   ]
  },
  {
   "cell_type": "code",
   "execution_count": 19,
   "metadata": {
    "tags": []
   },
   "outputs": [],
   "source": [
    "# Census Data Cleaning\n",
    "# Extract relevant columns to identify population averages for\n",
    "# each year available.\n",
    "\n",
    "# List to iterate through Census files\n",
    "df_list = [c_2015, c_2016, c_2017, c_2018]\n",
    "census_dict = {}\n",
    "\n",
    "# Function Setup\n",
    "# Column pull and format function\n",
    "def col_pf (df, year):\n",
    "    df = df.loc[:, ['GEO_ID', 'NAME', 'DP05_0001E']]\n",
    "    df = df.rename(columns={'NAME': 'Place/State', 'DP05_0001E': f'{year} Population'}) \n",
    "    df[['Place', 'State']] = df['Place/State'].str.rsplit(\",\", expand=True)\n",
    "    df = df[53:]\n",
    "    df = df.reset_index(drop=True)\n",
    "    return df\n",
    "\n"
   ]
  },
  {
   "cell_type": "code",
   "execution_count": 20,
   "metadata": {
    "tags": []
   },
   "outputs": [
    {
     "data": {
      "text/html": [
       "<div>\n",
       "<style scoped>\n",
       "    .dataframe tbody tr th:only-of-type {\n",
       "        vertical-align: middle;\n",
       "    }\n",
       "\n",
       "    .dataframe tbody tr th {\n",
       "        vertical-align: top;\n",
       "    }\n",
       "\n",
       "    .dataframe thead th {\n",
       "        text-align: right;\n",
       "    }\n",
       "</style>\n",
       "<table border=\"1\" class=\"dataframe\">\n",
       "  <thead>\n",
       "    <tr style=\"text-align: right;\">\n",
       "      <th></th>\n",
       "      <th>GEO_ID</th>\n",
       "      <th>Place/State</th>\n",
       "      <th>2015 Population</th>\n",
       "      <th>Place</th>\n",
       "      <th>State</th>\n",
       "    </tr>\n",
       "  </thead>\n",
       "  <tbody>\n",
       "    <tr>\n",
       "      <th>0</th>\n",
       "      <td>1600000US0107000</td>\n",
       "      <td>Birmingham city, Alabama</td>\n",
       "      <td>214911</td>\n",
       "      <td>Birmingham city</td>\n",
       "      <td>Alabama</td>\n",
       "    </tr>\n",
       "    <tr>\n",
       "      <th>1</th>\n",
       "      <td>1600000US0121184</td>\n",
       "      <td>Dothan city, Alabama</td>\n",
       "      <td>67536</td>\n",
       "      <td>Dothan city</td>\n",
       "      <td>Alabama</td>\n",
       "    </tr>\n",
       "    <tr>\n",
       "      <th>2</th>\n",
       "      <td>1600000US0135896</td>\n",
       "      <td>Hoover city, Alabama</td>\n",
       "      <td>84839</td>\n",
       "      <td>Hoover city</td>\n",
       "      <td>Alabama</td>\n",
       "    </tr>\n",
       "    <tr>\n",
       "      <th>3</th>\n",
       "      <td>1600000US0137000</td>\n",
       "      <td>Huntsville city, Alabama</td>\n",
       "      <td>189114</td>\n",
       "      <td>Huntsville city</td>\n",
       "      <td>Alabama</td>\n",
       "    </tr>\n",
       "    <tr>\n",
       "      <th>4</th>\n",
       "      <td>1600000US0150000</td>\n",
       "      <td>Mobile city, Alabama</td>\n",
       "      <td>194305</td>\n",
       "      <td>Mobile city</td>\n",
       "      <td>Alabama</td>\n",
       "    </tr>\n",
       "  </tbody>\n",
       "</table>\n",
       "</div>"
      ],
      "text/plain": [
       "             GEO_ID               Place/State 2015 Population  \\\n",
       "0  1600000US0107000  Birmingham city, Alabama          214911   \n",
       "1  1600000US0121184      Dothan city, Alabama           67536   \n",
       "2  1600000US0135896      Hoover city, Alabama           84839   \n",
       "3  1600000US0137000  Huntsville city, Alabama          189114   \n",
       "4  1600000US0150000      Mobile city, Alabama          194305   \n",
       "\n",
       "             Place     State  \n",
       "0  Birmingham city   Alabama  \n",
       "1      Dothan city   Alabama  \n",
       "2      Hoover city   Alabama  \n",
       "3  Huntsville city   Alabama  \n",
       "4      Mobile city   Alabama  "
      ]
     },
     "execution_count": 20,
     "metadata": {},
     "output_type": "execute_result"
    }
   ],
   "source": [
    "# Applied col_pf function on Census DFs\n",
    "df_2015 = col_pf(c_2015, 2015)\n",
    "df_2016 = col_pf(c_2015, 2016)\n",
    "df_2017 = col_pf(c_2015, 2017)\n",
    "df_2018 = col_pf(c_2015, 2017)\n",
    "\n",
    "df_2015.head()"
   ]
  },
  {
   "cell_type": "code",
   "execution_count": null,
   "metadata": {},
   "outputs": [],
   "source": []
  },
  {
   "cell_type": "code",
   "execution_count": null,
   "metadata": {},
   "outputs": [],
   "source": []
  },
  {
   "cell_type": "markdown",
   "metadata": {},
   "source": []
  }
 ],
 "metadata": {
  "kernelspec": {
   "display_name": "Python 3",
   "language": "python",
   "name": "python3"
  },
  "language_info": {
   "codemirror_mode": {
    "name": "ipython",
    "version": 3
   },
   "file_extension": ".py",
   "mimetype": "text/x-python",
   "name": "python",
   "nbconvert_exporter": "python",
   "pygments_lexer": "ipython3",
   "version": "3.6.10"
  }
 },
 "nbformat": 4,
 "nbformat_minor": 4
}
