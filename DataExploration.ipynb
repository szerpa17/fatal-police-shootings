{
 "cells": [
  {
   "cell_type": "code",
   "execution_count": 6,
   "metadata": {},
   "outputs": [],
   "source": [
    "# Dependancies\n",
    "import pandas as pd\n",
    "import os\n",
    "\n",
    "# File load\n",
    "file1 = os.path.join('data', 'fatal-police-shootings-data.csv' )\n",
    "file2 = os.path.join('data', 'ACSDP1Y2015.csv' )\n",
    "file3 = os.path.join('data', 'ACSDP1Y2016.csv' )\n",
    "file4 = os.path.join('data', 'ACSDP1Y2017.csv' )\n",
    "file5 = os.path.join('data', 'ACSDP1Y2018.csv' )\n",
    "\n",
    "# File read\n",
    "shootings_df = pd.read_csv(file1)\n",
    "# c_2015 = pd.read_csv(file2, header=None)\n",
    "# c_2016 = pd.read_csv(file3, header=None)\n",
    "# c_2017 = pd.read_csv(file4, header=None)\n",
    "# c_2018 = pd.read_csv(file5, header=None)\n",
    "c_2015 = pd.read_csv(file2)\n",
    "c_2016 = pd.read_csv(file3)\n",
    "c_2017 = pd.read_csv(file4)\n",
    "c_2018 = pd.read_csv(file5)"
   ]
  },
  {
   "cell_type": "code",
   "execution_count": 42,
   "metadata": {
    "tags": []
   },
   "outputs": [],
   "source": [
    "# Census Data Cleaning\n",
    "\n",
    "# Function Setup\n",
    "# Column pull and format function\n",
    "def col_pf(df, year):\n",
    "    # Pulled geo ID, name, and population columns\n",
    "    df = df.loc[:, ['GEO_ID', 'NAME', 'DP05_0001E']]\n",
    "    # Renamed columns\n",
    "    df = df.rename(columns={'NAME': 'Place/State', 'DP05_0001E': f'{year} Population'}) \n",
    "    # Split the Place/State column into two new columns\n",
    "    df[['Place', 'State']] = df['Place/State'].str.rsplit(',', expand=True)\n",
    "    # Remove rows that only have States with no place\n",
    "    df = df[53:]\n",
    "    # Reorganized DF for Population to be at the end\n",
    "    df = df[['GEO_ID', 'Place/State', 'Place', 'State', f'{year} Population']]\n",
    "    # Reset index and remove the prior index\n",
    "    df = df.reset_index(drop=True)\n",
    "    # Used regex on the Place column to leave the place name without an \n",
    "    # additional description\n",
    "    df[['Place']] = df[['Place']].replace(regex=[r'city$'], value='')\n",
    "    df[['Place']] = df[['Place']].replace(regex=[r'town$'], value='')\n",
    "    df[['Place']] = df[['Place']].replace(regex=[r'village$'], value='')\n",
    "    df[['Place']] = df[['Place']].replace(regex=[r'CDP$'], value='')\n",
    "    return df"
   ]
  },
  {
   "cell_type": "code",
   "execution_count": 44,
   "metadata": {
    "tags": []
   },
   "outputs": [],
   "source": [
    "# Applied col_pf function on Census DFs\n",
    "df_2015 = col_pf(c_2015, 2015)\n",
    "df_2016 = col_pf(c_2016, 2016)\n",
    "df_2017 = col_pf(c_2017, 2017)\n",
    "df_2018 = col_pf(c_2018, 2018)"
   ]
  },
  {
   "cell_type": "code",
   "execution_count": null,
   "metadata": {},
   "outputs": [],
   "source": []
  },
  {
   "cell_type": "code",
   "execution_count": null,
   "metadata": {},
   "outputs": [],
   "source": []
  },
  {
   "cell_type": "markdown",
   "metadata": {},
   "source": []
  }
 ],
 "metadata": {
  "kernelspec": {
   "display_name": "Python 3",
   "language": "python",
   "name": "python3"
  },
  "language_info": {
   "codemirror_mode": {
    "name": "ipython",
    "version": 3
   },
   "file_extension": ".py",
   "mimetype": "text/x-python",
   "name": "python",
   "nbconvert_exporter": "python",
   "pygments_lexer": "ipython3",
   "version": "3.6.10"
  }
 },
 "nbformat": 4,
 "nbformat_minor": 4
}
