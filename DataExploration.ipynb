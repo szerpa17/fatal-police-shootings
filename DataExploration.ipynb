{
 "cells": [
  {
   "cell_type": "code",
   "execution_count": 11,
   "metadata": {},
   "outputs": [],
   "source": [
    "# Dependancies\n",
    "import pandas as pd\n",
    "import os\n",
    "\n",
    "# File load\n",
    "file1 = os.path.join('data', 'fatal-police-shootings-data.csv' )\n",
    "file2 = os.path.join('data', 'ACSDP1Y2015.csv' )\n",
    "file3 = os.path.join('data', 'ACSDP1Y2016.csv' )\n",
    "file4 = os.path.join('data', 'ACSDP1Y2017.csv' )\n",
    "file5 = os.path.join('data', 'ACSDP1Y2018.csv' )\n",
    "\n",
    "# File read\n",
    "shootings_df = pd.read_csv(file1)\n",
    "# c_2015 = pd.read_csv(file2, header=None)\n",
    "# c_2016 = pd.read_csv(file3, header=None)\n",
    "# c_2017 = pd.read_csv(file4, header=None)\n",
    "# c_2018 = pd.read_csv(file5, header=None)\n",
    "c_2015 = pd.read_csv(file2)\n",
    "c_2016 = pd.read_csv(file3)\n",
    "c_2017 = pd.read_csv(file4)\n",
    "c_2018 = pd.read_csv(file5)"
   ]
  },
  {
   "cell_type": "code",
   "execution_count": 18,
   "metadata": {
    "tags": []
   },
   "outputs": [],
   "source": [
    "# Census Data Cleaning\n",
    "# Extract relevant columns to identify population averages for\n",
    "# each year available.\n",
    "\n",
    "# List to iterate through Census files\n",
    "df_list = [c_2015, c_2016, c_2017, c_2018]\n",
    "census_dict = {}\n",
    "\n",
    "# Function Setup\n",
    "# Column pull and format function\n",
    "def col_pf (df, year):\n",
    "    df = df.loc[:, ['GEO_ID', 'NAME', 'DP05_0001E']]\n",
    "    #df[['Place','State']] = df['NAME'].str.rsplit(\",\")\n",
    "    df = df.rename(columns={'NAME': 'Place', 'DP05_0001E': f'{year} Population'}) \n",
    "    df = df.drop(df.index[0])\n",
    "    return df\n",
    "\n"
   ]
  },
  {
   "cell_type": "code",
   "execution_count": 20,
   "metadata": {
    "tags": []
   },
   "outputs": [
    {
     "data": {
      "text/html": [
       "<div>\n",
       "<style scoped>\n",
       "    .dataframe tbody tr th:only-of-type {\n",
       "        vertical-align: middle;\n",
       "    }\n",
       "\n",
       "    .dataframe tbody tr th {\n",
       "        vertical-align: top;\n",
       "    }\n",
       "\n",
       "    .dataframe thead th {\n",
       "        text-align: right;\n",
       "    }\n",
       "</style>\n",
       "<table border=\"1\" class=\"dataframe\">\n",
       "  <thead>\n",
       "    <tr style=\"text-align: right;\">\n",
       "      <th></th>\n",
       "      <th>GEO_ID</th>\n",
       "      <th>Place</th>\n",
       "      <th>2015 Population</th>\n",
       "    </tr>\n",
       "  </thead>\n",
       "  <tbody>\n",
       "    <tr>\n",
       "      <th>1</th>\n",
       "      <td>0400000US01</td>\n",
       "      <td>Alabama</td>\n",
       "      <td>4858979</td>\n",
       "    </tr>\n",
       "    <tr>\n",
       "      <th>2</th>\n",
       "      <td>0400000US02</td>\n",
       "      <td>Alaska</td>\n",
       "      <td>738432</td>\n",
       "    </tr>\n",
       "    <tr>\n",
       "      <th>3</th>\n",
       "      <td>0400000US04</td>\n",
       "      <td>Arizona</td>\n",
       "      <td>6828065</td>\n",
       "    </tr>\n",
       "    <tr>\n",
       "      <th>4</th>\n",
       "      <td>0400000US05</td>\n",
       "      <td>Arkansas</td>\n",
       "      <td>2978204</td>\n",
       "    </tr>\n",
       "    <tr>\n",
       "      <th>5</th>\n",
       "      <td>0400000US06</td>\n",
       "      <td>California</td>\n",
       "      <td>39144818</td>\n",
       "    </tr>\n",
       "    <tr>\n",
       "      <th>...</th>\n",
       "      <td>...</td>\n",
       "      <td>...</td>\n",
       "      <td>...</td>\n",
       "    </tr>\n",
       "    <tr>\n",
       "      <th>644</th>\n",
       "      <td>1600000US1706613</td>\n",
       "      <td>Bloomington city, Illinois</td>\n",
       "      <td>78295</td>\n",
       "    </tr>\n",
       "    <tr>\n",
       "      <th>645</th>\n",
       "      <td>1600000US1707133</td>\n",
       "      <td>Bolingbrook village, Illinois</td>\n",
       "      <td>72096</td>\n",
       "    </tr>\n",
       "    <tr>\n",
       "      <th>646</th>\n",
       "      <td>1600000US1712385</td>\n",
       "      <td>Champaign city, Illinois</td>\n",
       "      <td>86086</td>\n",
       "    </tr>\n",
       "    <tr>\n",
       "      <th>647</th>\n",
       "      <td>1600000US7252431</td>\n",
       "      <td>Mayagüez zona urbana, Puerto Rico</td>\n",
       "      <td>66581</td>\n",
       "    </tr>\n",
       "    <tr>\n",
       "      <th>648</th>\n",
       "      <td>1600000US7206593</td>\n",
       "      <td>Bayamón zona urbana, Puerto Rico</td>\n",
       "      <td>170259</td>\n",
       "    </tr>\n",
       "  </tbody>\n",
       "</table>\n",
       "<p>648 rows × 3 columns</p>\n",
       "</div>"
      ],
      "text/plain": [
       "               GEO_ID                              Place 2015 Population\n",
       "1         0400000US01                            Alabama         4858979\n",
       "2         0400000US02                             Alaska          738432\n",
       "3         0400000US04                            Arizona         6828065\n",
       "4         0400000US05                           Arkansas         2978204\n",
       "5         0400000US06                         California        39144818\n",
       "..                ...                                ...             ...\n",
       "644  1600000US1706613         Bloomington city, Illinois           78295\n",
       "645  1600000US1707133      Bolingbrook village, Illinois           72096\n",
       "646  1600000US1712385           Champaign city, Illinois           86086\n",
       "647  1600000US7252431  Mayagüez zona urbana, Puerto Rico           66581\n",
       "648  1600000US7206593   Bayamón zona urbana, Puerto Rico          170259\n",
       "\n",
       "[648 rows x 3 columns]"
      ]
     },
     "execution_count": 20,
     "metadata": {},
     "output_type": "execute_result"
    }
   ],
   "source": [
    "# Applied col_pf function on Census DFs\n",
    "df_2015 = col_pf(c_2015, 2015)\n",
    "df_2016 = col_pf(c_2015, 2016)\n",
    "df_2017 = col_pf(c_2015, 2017)\n",
    "df_2018 = col_pf(c_2015, 2017)\n"
   ]
  },
  {
   "cell_type": "code",
   "execution_count": null,
   "metadata": {},
   "outputs": [],
   "source": [
    "#file_list = ['c_2015', 'c_2016', 'c_2017', 'c_2018']"
   ]
  },
  {
   "cell_type": "code",
   "execution_count": 7,
   "metadata": {},
   "outputs": [
    {
     "data": {
      "text/plain": [
       "W    2499\n",
       "B    1301\n",
       "H     907\n",
       "A      94\n",
       "N      78\n",
       "O      48\n",
       "Name: race, dtype: int64"
      ]
     },
     "execution_count": 7,
     "metadata": {},
     "output_type": "execute_result"
    }
   ],
   "source": []
  },
  {
   "cell_type": "markdown",
   "metadata": {},
   "source": []
  }
 ],
 "metadata": {
  "kernelspec": {
   "display_name": "Python 3",
   "language": "python",
   "name": "python3"
  },
  "language_info": {
   "codemirror_mode": {
    "name": "ipython",
    "version": 3
   },
   "file_extension": ".py",
   "mimetype": "text/x-python",
   "name": "python",
   "nbconvert_exporter": "python",
   "pygments_lexer": "ipython3",
   "version": "3.6.10"
  }
 },
 "nbformat": 4,
 "nbformat_minor": 4
}
