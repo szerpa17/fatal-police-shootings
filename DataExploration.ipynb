{
 "cells": [
  {
   "cell_type": "code",
   "execution_count": 5,
   "metadata": {},
   "outputs": [
    {
     "output_type": "execute_result",
     "data": {
      "text/plain": "Index(['id', 'name', 'date', 'manner_of_death', 'armed', 'age', 'gender',\n       'race', 'city', 'state', 'signs_of_mental_illness', 'threat_level',\n       'flee', 'body_camera'],\n      dtype='object')"
     },
     "metadata": {},
     "execution_count": 5
    }
   ],
   "source": [
    "# Dependancies\n",
    "import pandas as pd\n",
    "import os\n",
    "\n",
    "# Files to be loaded\n",
    "file1 = os.path.join('data', 'fatal-police-shootings-data.csv' )\n",
    "file2 = os.path.join('data', 'ACSDP1Y2015.csv' )\n",
    "file3 = os.path.join('data', 'ACSDP1Y2016.csv' )\n",
    "file4 = os.path.join('data', 'ACSDP1Y2017.csv' )\n",
    "file5 = os.path.join('data', 'ACSDP1Y2018.csv' )\n",
    "\n",
    "# File read\n",
    "shootings_df = pd.read_csv(file1)\n",
    "c_2015 = pd.read_csv(file2)\n",
    "c_2016 = pd.read_csv(file3)\n",
    "c_2017 = pd.read_csv(file4)\n",
    "c_2018 = pd.read_csv(file5)"
   ]
  },
  {
   "cell_type": "code",
   "execution_count": 8,
   "metadata": {},
   "outputs": [
    {
     "output_type": "execute_result",
     "data": {
      "text/plain": "        GEO_ID                  NAME                               DP05_0001E  \\\n0           id  Geographic Area Name  Estimate!!SEX AND AGE!!Total population   \n1  0400000US01               Alabama                                  4858979   \n2  0400000US02                Alaska                                   738432   \n3  0400000US04               Arizona                                  6828065   \n4  0400000US05              Arkansas                                  2978204   \n\n                                       DP05_0001M  \\\n0  Margin of Error!!SEX AND AGE!!Total population   \n1                                           *****   \n2                                           *****   \n3                                           *****   \n4                                           *****   \n\n                              DP05_0001PE  \\\n0  Percent!!SEX AND AGE!!Total population   \n1                                 4858979   \n2                                  738432   \n3                                 6828065   \n4                                 2978204   \n\n                                         DP05_0001PM  \\\n0  Percent Margin of Error!!SEX AND AGE!!Total po...   \n1                                                (X)   \n2                                                (X)   \n3                                                (X)   \n4                                                (X)   \n\n                                      DP05_0002E  \\\n0  Estimate!!SEX AND AGE!!Total population!!Male   \n1                                        2352810   \n2                                         388695   \n3                                        3387385   \n4                                        1463576   \n\n                                          DP05_0002M  \\\n0  Margin of Error!!SEX AND AGE!!Total population...   \n1                                               5380   \n2                                               1732   \n3                                               2294   \n4                                               3921   \n\n                                    DP05_0002PE  \\\n0  Percent!!SEX AND AGE!!Total population!!Male   \n1                                          48.4   \n2                                          52.6   \n3                                          49.6   \n4                                          49.1   \n\n                                         DP05_0002PM  ...  \\\n0  Percent Margin of Error!!SEX AND AGE!!Total po...  ...   \n1                                                0.1  ...   \n2                                                0.2  ...   \n3                                                0.1  ...   \n4                                                0.1  ...   \n\n                                         DP05_0082PM  \\\n0  Percent Margin of Error!!CITIZEN, VOTING AGE P...   \n1                                                (X)   \n2                                                (X)   \n3                                                (X)   \n4                                                (X)   \n\n                                          DP05_0083E  \\\n0  Estimate!!CITIZEN, VOTING AGE POPULATION!!Citi...   \n1                                            1733691   \n2                                             282486   \n3                                            2315216   \n4                                            1053394   \n\n                                          DP05_0083M  \\\n0  Margin of Error!!CITIZEN, VOTING AGE POPULATIO...   \n1                                               4643   \n2                                               1893   \n3                                               8813   \n4                                               4088   \n\n                                         DP05_0083PE  \\\n0  Percent!!CITIZEN, VOTING AGE POPULATION!!Citiz...   \n1                                               47.5   \n2                                               53.5   \n3                                               49.2   \n4                                               48.2   \n\n                                         DP05_0083PM  \\\n0  Percent Margin of Error!!CITIZEN, VOTING AGE P...   \n1                                                0.1   \n2                                                0.3   \n3                                                0.1   \n4                                                0.1   \n\n                                          DP05_0084E  \\\n0  Estimate!!CITIZEN, VOTING AGE POPULATION!!Citi...   \n1                                            1919690   \n2                                             245762   \n3                                            2395232   \n4                                            1132330   \n\n                                          DP05_0084M  \\\n0  Margin of Error!!CITIZEN, VOTING AGE POPULATIO...   \n1                                               4241   \n2                                               1773   \n3                                               8328   \n4                                               3539   \n\n                                         DP05_0084PE  \\\n0  Percent!!CITIZEN, VOTING AGE POPULATION!!Citiz...   \n1                                               52.5   \n2                                               46.5   \n3                                               50.8   \n4                                               51.8   \n\n                                         DP05_0084PM  \\\n0  Percent Margin of Error!!CITIZEN, VOTING AGE P...   \n1                                                0.1   \n2                                                0.3   \n3                                                0.1   \n4                                                0.1   \n\n                        DP05_0053PE  \n0  Percent!!RACE!!Two or more races  \n1                               1.8  \n2                               8.6  \n3                               3.3  \n4                               2.2  \n\n[5 rows x 338 columns]",
      "text/html": "<div>\n<style scoped>\n    .dataframe tbody tr th:only-of-type {\n        vertical-align: middle;\n    }\n\n    .dataframe tbody tr th {\n        vertical-align: top;\n    }\n\n    .dataframe thead th {\n        text-align: right;\n    }\n</style>\n<table border=\"1\" class=\"dataframe\">\n  <thead>\n    <tr style=\"text-align: right;\">\n      <th></th>\n      <th>GEO_ID</th>\n      <th>NAME</th>\n      <th>DP05_0001E</th>\n      <th>DP05_0001M</th>\n      <th>DP05_0001PE</th>\n      <th>DP05_0001PM</th>\n      <th>DP05_0002E</th>\n      <th>DP05_0002M</th>\n      <th>DP05_0002PE</th>\n      <th>DP05_0002PM</th>\n      <th>...</th>\n      <th>DP05_0082PM</th>\n      <th>DP05_0083E</th>\n      <th>DP05_0083M</th>\n      <th>DP05_0083PE</th>\n      <th>DP05_0083PM</th>\n      <th>DP05_0084E</th>\n      <th>DP05_0084M</th>\n      <th>DP05_0084PE</th>\n      <th>DP05_0084PM</th>\n      <th>DP05_0053PE</th>\n    </tr>\n  </thead>\n  <tbody>\n    <tr>\n      <th>0</th>\n      <td>id</td>\n      <td>Geographic Area Name</td>\n      <td>Estimate!!SEX AND AGE!!Total population</td>\n      <td>Margin of Error!!SEX AND AGE!!Total population</td>\n      <td>Percent!!SEX AND AGE!!Total population</td>\n      <td>Percent Margin of Error!!SEX AND AGE!!Total po...</td>\n      <td>Estimate!!SEX AND AGE!!Total population!!Male</td>\n      <td>Margin of Error!!SEX AND AGE!!Total population...</td>\n      <td>Percent!!SEX AND AGE!!Total population!!Male</td>\n      <td>Percent Margin of Error!!SEX AND AGE!!Total po...</td>\n      <td>...</td>\n      <td>Percent Margin of Error!!CITIZEN, VOTING AGE P...</td>\n      <td>Estimate!!CITIZEN, VOTING AGE POPULATION!!Citi...</td>\n      <td>Margin of Error!!CITIZEN, VOTING AGE POPULATIO...</td>\n      <td>Percent!!CITIZEN, VOTING AGE POPULATION!!Citiz...</td>\n      <td>Percent Margin of Error!!CITIZEN, VOTING AGE P...</td>\n      <td>Estimate!!CITIZEN, VOTING AGE POPULATION!!Citi...</td>\n      <td>Margin of Error!!CITIZEN, VOTING AGE POPULATIO...</td>\n      <td>Percent!!CITIZEN, VOTING AGE POPULATION!!Citiz...</td>\n      <td>Percent Margin of Error!!CITIZEN, VOTING AGE P...</td>\n      <td>Percent!!RACE!!Two or more races</td>\n    </tr>\n    <tr>\n      <th>1</th>\n      <td>0400000US01</td>\n      <td>Alabama</td>\n      <td>4858979</td>\n      <td>*****</td>\n      <td>4858979</td>\n      <td>(X)</td>\n      <td>2352810</td>\n      <td>5380</td>\n      <td>48.4</td>\n      <td>0.1</td>\n      <td>...</td>\n      <td>(X)</td>\n      <td>1733691</td>\n      <td>4643</td>\n      <td>47.5</td>\n      <td>0.1</td>\n      <td>1919690</td>\n      <td>4241</td>\n      <td>52.5</td>\n      <td>0.1</td>\n      <td>1.8</td>\n    </tr>\n    <tr>\n      <th>2</th>\n      <td>0400000US02</td>\n      <td>Alaska</td>\n      <td>738432</td>\n      <td>*****</td>\n      <td>738432</td>\n      <td>(X)</td>\n      <td>388695</td>\n      <td>1732</td>\n      <td>52.6</td>\n      <td>0.2</td>\n      <td>...</td>\n      <td>(X)</td>\n      <td>282486</td>\n      <td>1893</td>\n      <td>53.5</td>\n      <td>0.3</td>\n      <td>245762</td>\n      <td>1773</td>\n      <td>46.5</td>\n      <td>0.3</td>\n      <td>8.6</td>\n    </tr>\n    <tr>\n      <th>3</th>\n      <td>0400000US04</td>\n      <td>Arizona</td>\n      <td>6828065</td>\n      <td>*****</td>\n      <td>6828065</td>\n      <td>(X)</td>\n      <td>3387385</td>\n      <td>2294</td>\n      <td>49.6</td>\n      <td>0.1</td>\n      <td>...</td>\n      <td>(X)</td>\n      <td>2315216</td>\n      <td>8813</td>\n      <td>49.2</td>\n      <td>0.1</td>\n      <td>2395232</td>\n      <td>8328</td>\n      <td>50.8</td>\n      <td>0.1</td>\n      <td>3.3</td>\n    </tr>\n    <tr>\n      <th>4</th>\n      <td>0400000US05</td>\n      <td>Arkansas</td>\n      <td>2978204</td>\n      <td>*****</td>\n      <td>2978204</td>\n      <td>(X)</td>\n      <td>1463576</td>\n      <td>3921</td>\n      <td>49.1</td>\n      <td>0.1</td>\n      <td>...</td>\n      <td>(X)</td>\n      <td>1053394</td>\n      <td>4088</td>\n      <td>48.2</td>\n      <td>0.1</td>\n      <td>1132330</td>\n      <td>3539</td>\n      <td>51.8</td>\n      <td>0.1</td>\n      <td>2.2</td>\n    </tr>\n  </tbody>\n</table>\n<p>5 rows × 338 columns</p>\n</div>"
     },
     "metadata": {},
     "execution_count": 8
    }
   ],
   "source": [
    "# Merge of Census data\n"
   ]
  }
 ],
 "metadata": {
  "kernelspec": {
   "display_name": "Python 3",
   "language": "python",
   "name": "python3"
  },
  "language_info": {
   "codemirror_mode": {
    "name": "ipython",
    "version": 3
   },
   "file_extension": ".py",
   "mimetype": "text/x-python",
   "name": "python",
   "nbconvert_exporter": "python",
   "pygments_lexer": "ipython3",
   "version": "3.6.10"
  }
 },
 "nbformat": 4,
 "nbformat_minor": 4
}