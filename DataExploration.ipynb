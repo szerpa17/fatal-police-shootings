{
 "cells": [
  {
   "cell_type": "code",
   "execution_count": null,
   "metadata": {},
   "outputs": [],
   "source": [
    "# Dependancies\n",
    "import pandas as pd\n",
    "import os\n",
    "import numpy as np\n",
    "import matplotlib.pyplot as plt\n",
    "\n",
    "# File load\n",
    "file1 = os.path.join('data', 'fatal-police-shootings-data.csv' )\n",
    "file2 = os.path.join('data', 'ACSDP1Y2015.csv' )\n",
    "file3 = os.path.join('data', 'ACSDP1Y2016.csv' )\n",
    "file4 = os.path.join('data', 'ACSDP1Y2017.csv' )\n",
    "file5 = os.path.join('data', 'ACSDP1Y2018.csv' )\n",
    "\n",
    "# File read\n",
    "shootings_df = pd.read_csv(file1)\n",
    "c_2015 = pd.read_csv(file2)\n",
    "c_2016 = pd.read_csv(file3)\n",
    "c_2017 = pd.read_csv(file4)\n",
    "c_2018 = pd.read_csv(file5)"
   ]
  },
  {
   "cell_type": "markdown",
   "metadata": {
    "tags": []
   },
   "source": [
    "## Census Data Cleaning"
   ]
  },
  {
   "cell_type": "code",
   "execution_count": null,
   "metadata": {
    "tags": []
   },
   "outputs": [],
   "source": [
    "c_2015"
   ]
  },
  {
   "cell_type": "code",
   "execution_count": null,
   "metadata": {
    "tags": []
   },
   "outputs": [],
   "source": [
    "# Idetified that all columns are objects\n",
    "c_2015.dtypes.value_counts()"
   ]
  },
  {
   "cell_type": "code",
   "execution_count": null,
   "metadata": {
    "tags": []
   },
   "outputs": [],
   "source": [
    "# Census Data Cleaning\n",
    "\n",
    "# Function Setup\n",
    "# Column pull and format function\n",
    "def col_pf(df, year):\n",
    "    # Pulled geo ID, name, and population columns\n",
    "    df = df.loc[:, ['GEO_ID', 'NAME', 'DP05_0001E']]\n",
    "    # Renamed columns\n",
    "    df = df.rename(columns={'NAME': 'Place/State', 'DP05_0001E': f'{year} Population'}) \n",
    "    # Split the Place/State column into two new columns\n",
    "    df[['city', 'state']] = df['Place/State'].str.rsplit(',', expand=True)\n",
    "    # Removed rows that only have states (no 'place')\n",
    "    df = df[53:]\n",
    "    # Reorganized DF for Population to be at the end\n",
    "    df = df[['GEO_ID', 'Place/State', 'city', 'state', f'{year} Population']]\n",
    "    # Reset index and remove the prior index\n",
    "    df = df.reset_index(drop=True)\n",
    "    # Pulled only necessary columns\n",
    "    df = df.iloc[:, [0, 2, 3, 4]]\n",
    "    # Cast population column as int\n",
    "    df[[f'{year} Population']] = df[[f'{year} Population']].astype('int64')\n",
    "    # Used regex on the Place column to leave the place name without an \n",
    "    # additional description\n",
    "    df[['city']] = df[['city']].replace(regex=[r'city$'], value='')\n",
    "    df[['city']] = df[['city']].replace(regex=[r'town$'], value='')\n",
    "    df[['city']] = df[['city']].replace(regex=[r'village$'], value='')\n",
    "    df[['city']] = df[['city']].replace(regex=[r'CDP$'], value='')\n",
    "    df[['city']] = df[['city']].replace(regex=[r'municipality$'], value='')\n",
    "    df[['city']] = df[['city']].replace(regex=[r'zona urbana$'], value='')\n",
    "    return df\n",
    "\n",
    "# DF merge function\n",
    "def col_merge(df, df2, df3, df4):\n",
    "    merged_df = pd.merge(df, df2, on=('GEO_ID', 'city', 'state'), how='outer')\n",
    "    merged_df = pd.merge(merged_df, df3, on=('GEO_ID', 'city', 'state'), how='outer')\n",
    "    merged_df = pd.merge(merged_df, df4, on=('GEO_ID', 'city', 'state'), how='outer')\n",
    "    return merged_df"
   ]
  },
  {
   "cell_type": "code",
   "execution_count": null,
   "metadata": {
    "tags": []
   },
   "outputs": [],
   "source": [
    "# Applied col_pf function on Census DFs\n",
    "df_2015 = col_pf(c_2015, 2015)\n",
    "df_2016 = col_pf(c_2016, 2016)\n",
    "df_2017 = col_pf(c_2017, 2017)\n",
    "df_2018 = col_pf(c_2018, 2018)\n",
    "\n",
    "df_2015.head(100)"
   ]
  },
  {
   "cell_type": "code",
   "execution_count": null,
   "metadata": {},
   "outputs": [],
   "source": [
    "# Merged the DFs\n",
    "merged_df = col_merge(df_2015, df_2016, df_2017, df_2018)\n",
    "merged_df"
   ]
  },
  {
   "cell_type": "code",
   "execution_count": null,
   "metadata": {},
   "outputs": [],
   "source": [
    "# Identified that there were trailing spaces in Census data\n",
    "merged_df[['city']] = merged_df['city'].str.strip(' ')\n",
    "merged_df[['state']] = merged_df['state'].str.strip(' ')\n",
    "merged_df"
   ]
  },
  {
   "cell_type": "code",
   "execution_count": null,
   "metadata": {},
   "outputs": [],
   "source": [
    "# Count non-NA items in each column\n",
    "merged_df.count()"
   ]
  },
  {
   "cell_type": "code",
   "execution_count": null,
   "metadata": {},
   "outputs": [],
   "source": [
    "# Drop NA cells\n",
    "clean_df = merged_df\n",
    "clean_df.dropna(inplace = True) \n",
    "clean_df.count()"
   ]
  },
  {
   "cell_type": "code",
   "execution_count": null,
   "metadata": {},
   "outputs": [],
   "source": [
    "# Type check on merged DF\n",
    "clean_df.dtypes"
   ]
  },
  {
   "cell_type": "markdown",
   "metadata": {},
   "source": []
  },
  {
   "cell_type": "code",
   "execution_count": null,
   "metadata": {},
   "outputs": [],
   "source": [
    "# Identify the average population over the four year period\n",
    "clean_df['Average'] = clean_df.iloc[:, [3, 4, 5, 6]].mean(axis=1)\n",
    "clean_df"
   ]
  },
  {
   "cell_type": "code",
   "execution_count": null,
   "metadata": {},
   "outputs": [],
   "source": [
    "# Collection of individual state population averages\n",
    "state_list = clean_df['state'].unique().tolist()\n",
    "state_pop_data = []\n",
    "\n",
    "for state in state_list:\n",
    "    state_series = clean_df.loc[clean_df[\"state\"] == state, 'Average']\n",
    "    state_pop_data.append(state_series)"
   ]
  },
  {
   "cell_type": "code",
   "execution_count": null,
   "metadata": {},
   "outputs": [],
   "source": [
    "# Zoomed Multiplot View - Partially Removing Outliers\n",
    "fig, axs = plt.subplots(2,2, figsize=(15,15))\n",
    "\n",
    "# Plot 1\n",
    "axs[0, 0].boxplot(state_pop_data, labels=state_list)\n",
    "axs[0, 0].set_title('State Population')\n",
    "axs[0, 0].set_xlim(0, 13.5)\n",
    "axs[0, 0].set_ylim(0, 1000000)\n",
    "\n",
    "# Plot 2\n",
    "axs[0, 1].boxplot(state_pop_data, labels=state_list)\n",
    "axs[0, 1].set_title('State Population')\n",
    "axs[0, 1].set_xlim(13.5, 26.5)\n",
    "axs[0, 1].set_ylim(0, 1000000)\n",
    "\n",
    "# Plot 3 \n",
    "axs[1, 0].boxplot(state_pop_data, labels=state_list)\n",
    "axs[1, 0].set_title('State Population')\n",
    "axs[1, 0].set_xlim(26.5, 39.5)\n",
    "axs[1, 0].set_ylim(0, 1000000)\n",
    "\n",
    "# Plot 4 \n",
    "axs[1, 1].boxplot(state_pop_data, labels=state_list)\n",
    "axs[1, 1].set_title('State Population')\n",
    "axs[1, 1].set_xlim(39.5,50)\n",
    "axs[1, 1].set_ylim(0, 1000000)\n",
    "\n",
    "\n",
    "# Assign Labels\n",
    "for ax in axs.flat:\n",
    "    ax.set(ylabel='Average State Population')\n",
    "    \n",
    "for ax in fig.axes:\n",
    "    plt.sca(ax)\n",
    "    plt.xticks(rotation=90)\n",
    "    \n",
    "# Export plot image\n",
    "plt.savefig('images/State Box Plot Exploration.png')\n",
    "plt.show()"
   ]
  },
  {
   "cell_type": "markdown",
   "metadata": {},
   "source": [
    "## Shooting Data Cleaning"
   ]
  },
  {
   "cell_type": "code",
   "execution_count": null,
   "metadata": {},
   "outputs": [],
   "source": [
    "# Exported Census data with population averages by city\n",
    "file_path = os.path.join('csv_exports', 'Census.csv')\n",
    "clean_df.to_csv(file_path, index=False, header=True)"
   ]
  },
  {
   "cell_type": "code",
   "execution_count": null,
   "metadata": {},
   "outputs": [],
   "source": [
    "shootings_df"
   ]
  },
  {
   "cell_type": "code",
   "execution_count": null,
   "metadata": {},
   "outputs": [],
   "source": [
    "# U.S. State Dictionary\n",
    "# Link: http://code.activestate.com/recipes/577305-python-dictionary-of-us-states-and-territories/\n",
    "states = {\n",
    "        'AK': 'Alaska',\n",
    "        'AL': 'Alabama',\n",
    "        'AR': 'Arkansas',\n",
    "        'AS': 'American Samoa',\n",
    "        'AZ': 'Arizona',\n",
    "        'CA': 'California',\n",
    "        'CO': 'Colorado',\n",
    "        'CT': 'Connecticut',\n",
    "        'DC': 'District of Columbia',\n",
    "        'DE': 'Delaware',\n",
    "        'FL': 'Florida',\n",
    "        'GA': 'Georgia',\n",
    "        'GU': 'Guam',\n",
    "        'HI': 'Hawaii',\n",
    "        'IA': 'Iowa',\n",
    "        'ID': 'Idaho',\n",
    "        'IL': 'Illinois',\n",
    "        'IN': 'Indiana',\n",
    "        'KS': 'Kansas',\n",
    "        'KY': 'Kentucky',\n",
    "        'LA': 'Louisiana',\n",
    "        'MA': 'Massachusetts',\n",
    "        'MD': 'Maryland',\n",
    "        'ME': 'Maine',\n",
    "        'MI': 'Michigan',\n",
    "        'MN': 'Minnesota',\n",
    "        'MO': 'Missouri',\n",
    "        'MP': 'Northern Mariana Islands',\n",
    "        'MS': 'Mississippi',\n",
    "        'MT': 'Montana',\n",
    "        'NA': 'National',\n",
    "        'NC': 'North Carolina',\n",
    "        'ND': 'North Dakota',\n",
    "        'NE': 'Nebraska',\n",
    "        'NH': 'New Hampshire',\n",
    "        'NJ': 'New Jersey',\n",
    "        'NM': 'New Mexico',\n",
    "        'NV': 'Nevada',\n",
    "        'NY': 'New York',\n",
    "        'OH': 'Ohio',\n",
    "        'OK': 'Oklahoma',\n",
    "        'OR': 'Oregon',\n",
    "        'PA': 'Pennsylvania',\n",
    "        'PR': 'Puerto Rico',\n",
    "        'RI': 'Rhode Island',\n",
    "        'SC': 'South Carolina',\n",
    "        'SD': 'South Dakota',\n",
    "        'TN': 'Tennessee',\n",
    "        'TX': 'Texas',\n",
    "        'UT': 'Utah',\n",
    "        'VA': 'Virginia',\n",
    "        'VI': 'Virgin Islands',\n",
    "        'VT': 'Vermont',\n",
    "        'WA': 'Washington',\n",
    "        'WI': 'Wisconsin',\n",
    "        'WV': 'West Virginia',\n",
    "        'WY': 'Wyoming'\n",
    "}\n",
    "\n",
    "abbrv_df= pd.DataFrame({'State Name' : states})\n",
    "abbrv_df = abbrv_df.reset_index()\n",
    "abbrv_df\n",
    "abbrv_df = abbrv_df.rename(columns=({'index': 'state'}))\n",
    "abbrv_df"
   ]
  },
  {
   "cell_type": "code",
   "execution_count": null,
   "metadata": {
    "scrolled": true
   },
   "outputs": [],
   "source": [
    "# Merged state name data into shootings DF\n",
    "shootings_merge = pd.merge(shootings_df, abbrv_df, on='state', how='left')\n",
    "shootings_merge = shootings_merge.rename(columns={'state':'abbreviation',\n",
    "                                                  'State Name': 'state'})\n",
    "\n",
    "#Reorganized shootings DF columns\n",
    "shootings_merge = shootings_merge[['id',\n",
    "                                  'name',\n",
    "                                  'date',\n",
    "                                  'manner_of_death',\n",
    "                                  'armed',\n",
    "                                  'age',\n",
    "                                  'gender',\n",
    "                                  'race',\n",
    "                                  'city',\n",
    "                                  'state',\n",
    "                                  'abbreviation',\n",
    "                                  'signs_of_mental_illness',\n",
    "                                  'threat_level',\n",
    "                                  'flee',\n",
    "                                  'body_camera']]\n",
    "shootings_merge"
   ]
  },
  {
   "cell_type": "code",
   "execution_count": null,
   "metadata": {},
   "outputs": [],
   "source": [
    "shootings_merge[\"gender\"].replace({\"M\": \"Male\", \"F\": \"Female\"}, inplace=True)\n",
    "shootings_merge[\"race\"].replace({\"A\": \"Asian\", \"W\": \"White\", \"B\": \"Black\", \"O\": \"Other\", \n",
    "                                  \"H\": \"Hispanic\", \"N\": \"Native American\"}, inplace=True)\n",
    "shootings_merge"
   ]
  },
  {
   "cell_type": "code",
   "execution_count": null,
   "metadata": {},
   "outputs": [],
   "source": [
    "shootings_merge.count()"
   ]
  },
  {
   "cell_type": "code",
   "execution_count": null,
   "metadata": {},
   "outputs": [],
   "source": [
    "# Filled NA rows with 'Unknown' in shooting DF originating columns\n",
    "values = {'armed':'Unknown', 'age':'Unknown', 'gender':'Unknown', 'race':'Unknown', 'flee':'Unknown'}\n",
    "shootings_merge = shootings_merge.fillna(value=values)\n",
    "shootings_merge.count()"
   ]
  },
  {
   "cell_type": "code",
   "execution_count": null,
   "metadata": {},
   "outputs": [],
   "source": [
    "# Checked shooting DF type\n",
    "# Identified data is an object\n",
    "shootings_merge.dtypes"
   ]
  },
  {
   "cell_type": "code",
   "execution_count": null,
   "metadata": {},
   "outputs": [],
   "source": [
    "# Checked dtypes\n",
    "shootings_merge['date'] = pd.to_datetime(shootings_merge['date'],format='%Y-%m-%d') \n",
    "shootings_merge.dtypes"
   ]
  },
  {
   "cell_type": "code",
   "execution_count": null,
   "metadata": {},
   "outputs": [],
   "source": [
    "shootings_merge"
   ]
  },
  {
   "cell_type": "code",
   "execution_count": null,
   "metadata": {
    "scrolled": true
   },
   "outputs": [],
   "source": [
    "# Filtered out shooting data after June 30, 2020\n",
    "shootings_merge = shootings_merge[shootings_merge['date'] <= '2020-06-30']"
   ]
  },
  {
   "cell_type": "code",
   "execution_count": null,
   "metadata": {},
   "outputs": [],
   "source": [
    "# Exported Census data with population averages by city\n",
    "file_path = os.path.join('csv_exports', 'Shootings.csv')\n",
    "shootings_merge.to_csv(file_path, index=False, header=True)"
   ]
  },
  {
   "cell_type": "code",
   "execution_count": null,
   "metadata": {
    "scrolled": true
   },
   "outputs": [],
   "source": [
    "# Checked Census DF to ensure there are no duplicated city/state combinations\n",
    "clean_df.loc[clean_df.duplicated(['city', 'state'])].count()"
   ]
  },
  {
   "cell_type": "code",
   "execution_count": null,
   "metadata": {},
   "outputs": [],
   "source": [
    "## Census and Shooting Data Merge"
   ]
  },
  {
   "cell_type": "code",
   "execution_count": null,
   "metadata": {},
   "outputs": [],
   "source": [
    "# Merge Average city population into the shootings DF\n",
    "final_merge_df = pd.merge(shootings_merge,clean_df, on=('city','state'), how='left')\n",
    "final_merge_df"
   ]
  },
  {
   "cell_type": "code",
   "execution_count": null,
   "metadata": {},
   "outputs": [],
   "source": [
    "# Identified further cleaning is needed\n",
    "final_merge_df.count()"
   ]
  },
  {
   "cell_type": "code",
   "execution_count": null,
   "metadata": {
    "scrolled": true
   },
   "outputs": [],
   "source": [
    "# Dropped duplicates\n",
    "cleaned_shooting_census_df = final_merge_df.dropna()\n",
    "cleaned_shooting_census_df.count()"
   ]
  },
  {
   "cell_type": "code",
   "execution_count": null,
   "metadata": {},
   "outputs": [],
   "source": [
    "cleaned_shooting_census_df"
   ]
  },
  {
   "cell_type": "code",
   "execution_count": null,
   "metadata": {},
   "outputs": [],
   "source": [
    "# City Average Population - Visual Outliers\n",
    "average_city_populaton = cleaned_shooting_census_df\n",
    "plt.boxplot(average_city_populaton['Average'])\n",
    "plt.title('Combined City Population')\n",
    "\n",
    "plt.savefig('images/Combined Average City Population Exploration.png')\n",
    "plt.show()"
   ]
  },
  {
   "cell_type": "code",
   "execution_count": null,
   "metadata": {},
   "outputs": [],
   "source": [
    "# State Population - Visual Outliers\n",
    "average_state_populaton = cleaned_shooting_census_df.groupby('state')[['Average']].sum()\n",
    "plt.boxplot(average_state_populaton['Average'])\n",
    "plt.title('Combined State Population')\n",
    "\n",
    "plt.savefig('images/Combined Average State Population Exploration.png')\n",
    "plt.show()"
   ]
  },
  {
   "cell_type": "code",
   "execution_count": null,
   "metadata": {},
   "outputs": [],
   "source": [
    "# Exported Census data with population averages by city\n",
    "file_path = os.path.join('csv_exports', 'Combined.csv')\n",
    "cleaned_shooting_census_df.to_csv(file_path, index=False, header=True)"
   ]
  }
 ],
 "metadata": {
  "kernelspec": {
   "display_name": "Python 3",
   "language": "python",
   "name": "python3"
  },
  "language_info": {
   "codemirror_mode": {
    "name": "ipython",
    "version": 3
   },
   "file_extension": ".py",
   "mimetype": "text/x-python",
   "name": "python",
   "nbconvert_exporter": "python",
   "pygments_lexer": "ipython3",
   "version": "3.6.10"
  }
 },
 "nbformat": 4,
 "nbformat_minor": 4
}
